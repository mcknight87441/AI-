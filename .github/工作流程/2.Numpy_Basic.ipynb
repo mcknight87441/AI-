{
  “ nbformat ”： 4，
  “ nbformat_minor ”： 0，
  “元數據”：{
    “ colab ”：{
      “名稱”： “ numpy_basic.ipynb ”，
      “來源”：[]，
      “ collapsed_sections ”：[]
    }，
    “ kernelspec ”：{
      “ name ”： “ python3 ”，
      “ display_name ”： “ Python 3 ”
    }，
    “ language_info ”：{
      “名稱”： “蟒蛇”
    }
  }，
  “細胞”：[
    {
      “ cell_type ”： “ markdown ”，
      “元數據”：{
        “ id ”： “ 3cfrOV4dL9hW ”
      }，
      “來源”：[
        “ ## Numpy ”
      ]
    }，
    {
      “ cell_type ”： “ markdown ”，
      “元數據”：{
        “ id ”： “ fY12nHhyL9hX ”
      }，
      “來源”：[
        “ Numpy是Python中科學計算的核心庫。它提供了高性能的多維數組對象，以及用於處理這些數組的工具。如果您已經熟悉MATLAB，則可以找到此[tutorial]（http：// wiki.scipy.org/NumPy_for_Matlab_Users）對於Numpy入門很有用。”
      ]
    }，
    {
      “ cell_type ”： “ markdown ”，
      “元數據”：{
        “ id ”： “ lZMyAdqhL9hY ”
      }，
      “來源”：[
        “要使用Numpy，我們首先需要導入`numpy`軟件包：”
      ]
    }，
    {
      “ cell_type ”： “代碼”，
      “元數據”：{
        “ id ”： “ 58QdX8BLL9hZ ”
      }，
      “來源”：[
        “將numpy導入為np ”
      ]，
      “ execution_count ”： 5，
      “輸出”：[]
    }，
    {
      “ cell_type ”： “ markdown ”，
      “元數據”：{
        “ id ”： “ DDx6v1EdL9hb ”
      }，
      “來源”：[
        “ ### Arrays ”
      ]
    }，
    {
      “ cell_type ”： “ markdown ”，
      “元數據”：{
        “ id ”： “ f-Zv3f7LL9hc ”
      }，
      “來源”：[
        “ numpy數組是所有相同類型的值的網格，並由非負整數的元組索引。維數是數組的秩；數組的形狀是整數的元組，給出了大小每個維度上的數組的大小。”
      ]
    }，
    {
      “ cell_type ”： “ markdown ”，
      “元數據”：{
        “ id ”： “ _eMTRnZRL9hc ”
      }，
      “來源”：[
        “我們可以從嵌套的Python列表初始化numpy數組，並使用方括號訪問元素：”
      ]
    }，
    {
      “ cell_type ”： “代碼”，
      “元數據”：{
        “ colab ”：{
          “ base_uri ”： “ https：// localhost：8080 / ”
        }，
        “ id ”： “ -l3JrGxCL9hc ”，
        “ outputId ”： “ 0b576e98-85e2-4988-ad07-4cbfd32dec01 ”
      }，
      “來源”：[
        “ a = np.array（[1，2，3]）＃創建一個等級為1的數組\ n ”，
        “ print（type（a），a.shape，a [0]，a [1]，a [2]）\ n ”，
        “ a [0] = 5＃更改數組\ n ”的元素，
        “打印（a）                   ”
      ]，
      “ execution_count ”： 6，
      “輸出”：[
        {
          “ output_type ”： “流”，
          “文字”：[
            “ <class'numpy.ndarray'>（3，）1 2 3 \ n ”，
            “ [5 2 3] \ n “
          ]，
          “ name ”： “ stdout ”
        }
      ]
    }，
    {
      “ cell_type ”： “代碼”，
      “元數據”：{
        “ colab ”：{
          “ base_uri ”： “ https：// localhost：8080 / ”
        }，
        “ id ”： “ ma6mk-kdL9hh ”，
        “ outputId ”： “ ebb50e98-6928-4bf7-9f69-68e8581502d3 ”
      }，
      “來源”：[
        “ b = np.array（[[1,2,3]，[4,5,6]]）＃創建一個2級數組\ n ”，
        “打印（b）”
      ]，
      “ execution_count ”： 7，
      “輸出”：[
        {
          “ output_type ”： “流”，
          “文字”：[
            “ [[1 2 3] \ n ”，
            “ [4 5 6]] \ n ”
          ]，
          “ name ”： “ stdout ”
        }
      ]
    }，
    {
      “ cell_type ”： “代碼”，
      “元數據”：{
        “ colab ”：{
          “ base_uri ”： “ https：// localhost：8080 / ”
        }，
        “ id ”： “ ymfSHAwtL9hj ”，
        “ outputId ”： “ 2a2fb7d2-0059-4d54-81b8-bfea081becc1 ”
      }，
      “來源”：[
        “打印（b.shape）\ n ”，
        “ print（b [0，0]，b [0，1]，b [1，0]）”
      ]，
      “ execution_count ”： 8，
      “輸出”：[
        {
          “ output_type ”： “流”，
          “文字”：[
            “（2，3）\ n ”，
            “ 1 2 4 \ n ”
          ]，
          “ name ”： “ stdout ”
        }
      ]
    }，
    {
      “ cell_type ”： “ markdown ”，
      “元數據”：{
        “ id ”： “ F2qwdyvuL9hn ”
      }，
      “來源”：[
        “ Numpy還提供了許多創建數組的功能：”
      ]
    }，
    {
      “ cell_type ”： “代碼”，
      “元數據”：{
        “ colab ”：{
          “ base_uri ”： “ https：// localhost：8080 / ”
        }，
        “ id ”： “ mVTN_EBqL9hn ”，
        “ outputId ”： “ 89ec70af-2cae-4d06-8bf4-1aa341c45224 ”
      }，
      “來源”：[
        “ a = np.zeros（（2,2））＃創建一個全零的數組\ n ”，
        “打印（a）”
      ]，
      “ execution_count ”： null，
      “輸出”：[
        {
          “ output_type ”： “流”，
          “文字”：[
            “ [[0. 0.] \ n ”，
            “ [0. 0.]] \ n ”
          ]，
          “ name ”： “ stdout ”
        }
      ]
    }，
    {
      “ cell_type ”： “代碼”，
      “元數據”：{
        “ colab ”：{
          “ base_uri ”： “ https：// localhost：8080 / ”
        }，
        “ id ”： “ skiKlNmlL9h5 ”，
        “ outputId ”： “ 853003a4-12f9-4b52-9769-b049c78078a4 ”
      }，
      “來源”：[
        “ b = np.ones（（1,2））＃創建一個全為\ n ”的數組，
        “打印（b）”
      ]，
      “ execution_count ”： null，
      “輸出”：[
        {
          “ output_type ”： “流”，
          “文字”：[
            “ [[1. 1.]] \ n ”
          ]，
          “ name ”： “ stdout ”
        }
      ]
    }，
    {
      “ cell_type ”： “代碼”，
      “元數據”：{
        “ colab ”：{
          “ base_uri ”： “ https：// localhost：8080 / ”
        }，
        “ id ”： “ HtFsr03bL9h7 ”，
        “ outputId ”： “ 19fbd0af-6306-4b80-cc58-56852123cc1c ”
      }，
      “來源”：[
        “ c = np.full（（2,2），7）＃創建一個常數數組\ n ”，
        “打印（c）”
      ]，
      “ execution_count ”： null，
      “輸出”：[
        {
          “ output_type ”： “流”，
          “文字”：[
            “ [[7 7] \ n ”，
            “ [7 7]] \ n ”
          ]，
          “ name ”： “ stdout ”
        }
      ]
    }，
    {
      “ cell_type ”： “代碼”，
      “元數據”：{
        “ colab ”：{
          “ base_uri ”： “ https：// localhost：8080 / ”
        }，
        “ id ”： “ -QcALHvkL9h9 ”，
        “ outputId ”： “ 654a96ec-4fb8-4c3b-c078-5bdeb64cf199 ”
      }，
      “來源”：[
        “ d = np.eye（2）＃創建一個2x2的單位矩陣\ n ”，
        “打印（d）”
      ]，
      “ execution_count ”： null，
      “輸出”：[
        {
          “ output_type ”： “流”，
          “文字”：[
            “ [[1. 0.] \ n ”，
            “ [0. 1.]] \ n ”
          ]，
          “ name ”： “ stdout ”
        }
      ]
    }，
    {
      “ cell_type ”： “代碼”，
      “元數據”：{
        “ colab ”：{
          “ base_uri ”： “ https：// localhost：8080 / ”
        }，
        “ id ”： “ RCpaYg9qL9iA ”，
        “ outputId ”： “ 9c2ab273-8827-4d33-94dc-e92e100a2d2b ”
      }，
      “來源”：[
        “ e = np.random.random（（2,2））＃創建一個填充有隨機值\ n ”的數組，
        “打印（e）”
      ]，
      “ execution_count ”： null，
      “輸出”：[
        {
          “ output_type ”： “流”，
          “文字”：[
            “ [[0.09070324 0.34079613] \ n ”，
            “ [0.85749471 0.86086997]] \ n “
          ]，
          “ name ”： “ stdout ”
        }
      ]
    }，
    {
      “ cell_type ”： “ markdown ”，
      “元數據”：{
        “ id ”： “ jI5qcSDfL9iC ”
      }，
      “來源”：[
        “ ### Array索引”
      ]
    }，
    {
      “ cell_type ”： “ markdown ”，
      “元數據”：{
        “ id ”： “ M-E4MUeVL9iC ”
      }，
      “來源”：[
        “ Numpy提供了幾種索引到數組的方法。”
      ]
    }，
    {
      “ cell_type ”： “ markdown ”，
      “元數據”：{
        “ id ”： “ QYv4JyIEL9iD ”
      }，
      “來源”：[
        “切片：類似於Python列表，可以對numpy數組進行切片。由於數組可能是多維的，因此必須為數組的每個維度指定一個切片：”
      ]
    }，
    {
      “ cell_type ”： “代碼”，
      “元數據”：{
        “ colab ”：{
          “ base_uri ”： “ https：// localhost：8080 / ”
        }，
        “ id ”： “ wLWA0udwL9iD ”，
        “ outputId ”： “ bf727ff1-37e0-4dc2-e309-9626de02d7ca ”
      }，
      “來源”：[
        “將numpy導入為np \ n ”，
        “ \ n ”，
        “＃創建以下秩2陣列具有形狀（3,4）\ n ”，
        “＃[[1 2 3 4] \ n ”，
        “＃[5 6 7 8] \ n ”，
        “＃[9 10 11 12]] \ n ”，
        “ a = np.array（[[1,2,3,4]，[5,6,7,8]，[9,10,11,12]]）\ n ”，
        “ \ n ”，
        “＃使用切片來提取由前2行\ n ”組成的子數組，
        “＃和第1列和第2列； b是以下形狀（2，2）的數組：\ n ”，
        “＃[[2 3] \ n ”，
        “＃[6 7]] \ n ”，
        “ b = a [0：2，1：3] \ n ”，
        “打印（b）”
      ]，
      “ execution_count ”： 3，
      “輸出”：[
        {
          “ output_type ”： “流”，
          “文字”：[
            “ [[2 3] \ n ”，
            “ [6 7]] \ n ”
          ]，
          “ name ”： “ stdout ”
        }
      ]
    }，
    {
      “ cell_type ”： “ markdown ”，
      “元數據”：{
        “ id ”： “ KahhtZKYL9iF ”
      }，
      “來源”：[
        “數組的一個切片是對相同數據的視圖，因此對其進行修改將修改原始數組。”
      ]
    }，
    {
      “ cell_type ”： “代碼”，
      “元數據”：{
        “ colab ”：{
          “ base_uri ”： “ https：// localhost：8080 / ”
        }，
        “ id ”： “ 1kmtaFHuL9iG ”，
        “ outputId ”： “ ab9c6ff9-1775-4d4f-d25e-4a369f5e1a9c ”
      }，
      “來源”：[
        “ print（a [0，1]）\ n ”，
        “ B [0,0] = 77＃B [0,0]是作為[0，1]相同的片數據的\ n ”，
        “打印（a [0，1]）”
      ]，
      “ execution_count ”： null，
      “輸出”：[
        {
          “ output_type ”： “流”，
          “文字”：[
            “ 2 \ n ”，
            “ 77 \ n ”
          ]，
          “ name ”： “ stdout ”
        }
      ]
    }，
    {
      “ cell_type ”： “ markdown ”，
      “元數據”：{
        “ id ”： “ _Zcf3zi-L9iI ”
      }，
      “來源”：[
        “您也可以將整數索引與切片索引混合使用。但是，這樣做將產生比原始數組低等級的數組。請注意，這與MATLAB處理數組切片的方式完全不同：”
      ]
    }，
    {
      “ cell_type ”： “代碼”，
      “元數據”：{
        “ colab ”：{
          “ base_uri ”： “ https：// localhost：8080 / ”
        }，
        “ id ”： “ G6lfbPuxL9iJ ”，
        “ outputId ”： “ 762e4442-8c0a-4be9-aaed-83163e8f08d6 ”
      }，
      “來源”：[
        “＃創建以下秩2陣列具有形狀（3,4）\ n ”，
        “ a = np.array（[[1,2,3,4]，[5,6,7,8]，[9,10,11,12]]）\ n ”，
        “打印（a）”
      ]，
      “ execution_count ”： null，
      “輸出”：[
        {
          “ output_type ”： “流”，
          “文字”：[
            “ [[1 2 3 4] \ n ”，
            “ [5 6 7 8] \ n ”，
            “ [9 10 11 12]] \ n “
          ]，
          “ name ”： “ stdout ”
        }
      ]
    }，
    {
      “ cell_type ”： “ markdown ”，
      “元數據”：{
        “ id ”： “ NCye3NXhL9iL ”
      }，
      “來源”：[
        “兩種訪問數組中間行中數據的方式。\ n ”，
        “將整數索引與切片混合會產生一個較低級別的數組\ n ”，
        “雖然僅使用切片會產生與\ n ”具有相同等級的數組，
        “原始數組：”
      ]
    }，
    {
      “ cell_type ”： “代碼”，
      “元數據”：{
        “ colab ”：{
          “ base_uri ”： “ https：// localhost：8080 / ”
        }，
        “ id ”： “ EOiEMsmNL9iL ”，
        “ outputId ”： “ 7e704926-9ce7-4314-9c6e-58cb02e4d1b1 ”
      }，
      “來源”：[
        “ row_r1 = a [1，：]＃\ n第二行的等級1視圖  ”，
        “ row_r2 = A [1：2，：]＃等級2視圖的第二行的\ n ”，
        “ row_r3 = A [[1]，：]＃等級2視圖的第二行的\ n ”，
        “ print（row_r1，row_r1.shape）\ n ”，
        “ print（row_r2，row_r2.shape）\ n ”，
        “打印（row_r3，row_r3.shape）”
      ]，
      “ execution_count ”： null，
      “輸出”：[
        {
          “ output_type ”： “流”，
          “文字”：[
            “ [5 6 7 8]（4，）\ n ”，
            “ [[5 6 7 8]]（1，4）\ n ”，
            “ [[5 6 7 8]]（1、4）\ n “
          ]，
          “ name ”： “ stdout ”
        }
      ]
    }，
    {
      “ cell_type ”： “代碼”，
      “元數據”：{
        “ colab ”：{
          “ base_uri ”： “ https：// localhost：8080 / ”
        }，
        “ id ”： “ JXu73pfDL9iN ”，
        “ outputId ”： “ 4ea490fc-4270-41a4-e98b-863198752ac1 ”
      }，
      “來源”：[
        “＃訪問數組的列時，我們可以做出相同的區分：\ n ”，
        “ col_r1 = a [:, 1] \ n ”，
        “ col_r2 = a [:, 1：2] \ n ”，
        “ print（col_r1，col_r1.shape）\ n ”，
        “ print（）\ n ”，
        “打印（col_r2，col_r2.shape）”
      ]，
      “ execution_count ”： null，
      “輸出”：[
        {
          “ output_type ”： “流”，
          “文字”：[
            “ [2 6 10]（3，）\ n ”，
            “ \ n ”，
            “ [[2] \ n ”，
            “ [6] \ n ”，
            “ [10]]（3，1）\ n ”
          ]，
          “ name ”： “ stdout ”
        }
      ]
    }，
    {
      “ cell_type ”： “ markdown ”，
      “元數據”：{
        “ id ”： “ VP3916bOL9iP ”
      }，
      “來源”：[
        “整數數組索引：當使用切片索引到numpy數組時，結果數組視圖將始終是原始數組的子數組。相反，整數數組索引使您可以使用來自另一個數組的數據構造任意數組。例如：“
      ]
    }，
    {
      “ cell_type ”： “代碼”，
      “元數據”：{
        “ colab ”：{
          “ base_uri ”： “ https：// localhost：8080 / ”
        }，
        “ id ”： “ TBnWonIDL9iP ”，
        “ outputId ”： “ afcf33e1-a85e-414a-cea1-d08fd68d06c0 ”
      }，
      “來源”：[
        “ a = np.array（[[1,2]，[3，4]，[5，6]]）\ n ”，
        “ \ n ”，
        “＃整數數組索引的示例。\ n ”，
        “＃返回的數組將具有形狀（3，）和\ n ”，
        “ print（a [[0，1，2]，[0，1，0]]）\ n ”，
        “ \ n ”，
        “＃上面的整數數組索引示例等效於此：\ n ”，
        “ print（np.array（[a [0，0]，a [1，1]，a [2，0]]））”
      ]，
      “ execution_count ”： 4，
      “輸出”：[
        {
          “ output_type ”： “流”，
          “文字”：[
            “ [1 4 5] \ n ”，
            “ [1 4 5] \ n “
          ]，
          “ name ”： “ stdout ”
        }
      ]
    }，
    {
      “ cell_type ”： “代碼”，
      “元數據”：{
        “ colab ”：{
          “ base_uri ”： “ https：// localhost：8080 / ”
        }，
        “ id ”： “ n7vuati-L9iR ”，
        “ outputId ”： “ cec5f1cd-4da1-4f0d-f6d7-e81c57f90b40 ”
      }，
      “來源”：[
        “＃使用整數數組索引時，您可以重複使用相同的\ n ”，
        “源數組中的＃個元素：\ n ”，
        “ print（a [[0，0]，[1，1]]）\ n ”，
        “ \ n ”，
        “＃等效於前面的整數數組索引示例\ n ”，
        “ print（np.array（[a [0，1]，a [0，1]]））”
      ]，
      “ execution_count ”： null，
      “輸出”：[
        {
          “ output_type ”： “流”，
          “文字”：[
            “ [2 2] \ n ”，
            “ [2 2] \ n ”
          ]，
          “ name ”： “ stdout ”
        }
      ]
    }，
    {
      “ cell_type ”： “ markdown ”，
      “元數據”：{
        “ id ”： “ kaipSLafL9iU ”
      }，
      “來源”：[
        “使用整數數組索引的一個有用技巧是從矩陣的每一行中選擇或更改一個元素：”
      ]
    }，
    {
      “ cell_type ”： “代碼”，
      “元數據”：{
        “ colab ”：{
          “ base_uri ”： “ https：// localhost：8080 / ”
        }，
        “ id ”： “ ehqsV7TXL9iU ”，
        “ outputId ”： “ e2d5f963-b796-4340-fe36-3644606be860 ”
      }，
      “來源”：[
        “＃創建一個新數組，我們將從中選擇元素\ n ”，
        “ a = np.array（[[1,2,3]，[4,5,6]，[7,8,9]，[10，11，12]]）\ n ”，
        “打印（a）”
      ]，
      “ execution_count ”： null，
      “輸出”：[
        {
          “ output_type ”： “流”，
          “文字”：[
            “ [[1 2 3] \ n ”，
            “ [4 5 6] \ n ”，
            “ [7 8 9] \ n ”，
            “ [10 11 12]] \ n ”
          ]，
          “ name ”： “ stdout ”
        }
      ]
    }，
    {
      “ cell_type ”： “代碼”，
      “元數據”：{
        “ colab ”：{
          “ base_uri ”： “ https：// localhost：8080 / ”
        }，
        “ id ”： “ pAPOoqy5L9iV ”，
        “ outputId ”： “ 0b93f440-c571-4338-b793-04dbc036a286 ”
      }，
      “來源”：[
        “＃創建一個索引數組\ n ”，
        “ b = np.array（[0，2，0，1]）\ n ”，
        “ \ n ”，
        “＃從的每行中的b。使用所述索引中選擇一個元素\ n ”，
        “ print（a [np.arange（4），b]）＃打印\” [1 6 7 11] \“ ”
      ]，
      “ execution_count ”： null，
      “輸出”：[
        {
          “ output_type ”： “流”，
          “文字”：[
            “ [1 6 7 11] \ n “
          ]，
          “ name ”： “ stdout ”
        }
      ]
    }，
    {
      “ cell_type ”： “代碼”，
      “元數據”：{
        “ colab ”：{
          “ base_uri ”： “ https：// localhost：8080 / ”
        }，
        “ id ”： “ 6v1PdI1DL9ib ”，
        “ outputId ”： “ 78f95d64-59f9-4482-dc80-901d3e84c8e7 ”
      }，
      “來源”：[
        “從使用B中的索引的各行＃變異一種元素\ n ”，
        “ a [np.arange（4），b] + = 10 \ n ”，
        “打印（a）”
      ]，
      “ execution_count ”： null，
      “輸出”：[
        {
          “ output_type ”： “流”，
          “文字”：[
            “ [[11 2 3] \ n ”，
            “ [4 5 16] \ n ”，
            “ [17 8 9] \ n ”，
            “ [10 21 12]] \ n ”
          ]，
          “ name ”： “ stdout ”
        }
      ]
    }，
    {
      “ cell_type ”： “ markdown ”，
      “元數據”：{
        “ id ”： “ kaE8dBGgL9id ”
      }，
      “來源”：[
        “布爾數組索引：布爾數組索引使您可以挑選出數組中的任意元素。通常，這種類型的索引用於選擇滿足某些條件的數組元素。這是一個示例：”
      ]
    }，
    {
      “ cell_type ”： “代碼”，
      “元數據”：{
        “ colab ”：{
          “ base_uri ”： “ https：// localhost：8080 / ”
        }，
        “ id ”： “ 32PusjtKL9id ”，
        “ outputId ”： “ b5437ec5-af55-430f-9caf-b5db608740e0 ”
      }，
      “來源”：[
        “將numpy導入為np \ n ”，
        “ \ n ”，
        “ a = np.array（[[1,2]，[3，4]，[5，6]]）\ n ”，
        “ \ n ”，
        “ bool_idx =（a> 2）＃查找大於2的元素；\ n ”，
        “                     ＃這將返回相同的布爾的numpy的陣列\ n ”，
        “                     ＃形狀為a，bool_idx的每個插槽都告訴\ n ”，
        “                     ＃a的元素是否大於2。\ n ”，
        “ \ n ”，
        “打印（bool_idx）”
      ]，
      “ execution_count ”： null，
      “輸出”：[
        {
          “ output_type ”： “流”，
          “文字”：[
            “ [[False False] \ n ”，
            “ [True True] \ n ”，
            “ [True True]] \ n ”
          ]，
          “ name ”： “ stdout ”
        }
      ]
    }，
    {
      “ cell_type ”： “代碼”，
      “元數據”：{
        “ colab ”：{
          “ base_uri ”： “ https：// localhost：8080 / ”
        }，
        “ id ”： “ cb2IRMXaL9if ”，
        “ outputId ”： “ 86605ac2-7968-4e25-c4a7-5738be884eda ”
      }，
      “來源”：[
        “＃我們使用布爾數組索引來構造秩為1的數組\ n ”，
        “＃由與True值\ n ”相對應的元素組成，
        “ bool_idx的＃\ n ”，
        “ print（a [bool_idx]）\ n ”，
        “ \ n ”，
        “＃我們可以在一個簡潔的語句中完成上述所有操作：\ n ”，
        “打印（a [a [a> 2]）”
      ]，
      “ execution_count ”： null，
      “輸出”：[
        {
          “ output_type ”： “流”，
          “文字”：[
            “ [3 4 5 6] \ n ”，
            “ [3 4 5 6] \ n “
          ]，
          “ name ”： “ stdout ”
        }
      ]
    }，
    {
      “ cell_type ”： “ markdown ”，
      “元數據”：{
        “ id ”： “ CdofMonAL9ih ”
      }，
      “來源”：[
        “為簡便起見，我們省略了有關numpy數組索引的許多詳細信息；如果您想了解更多信息，請閱讀文檔。”
      ]
    }，
    {
      “ cell_type ”： “ markdown ”，
      “元數據”：{
        “ id ”： “ jTctwqdQL9ih ”
      }，
      “來源”：[
        “ ###數據類型”
      ]
    }，
    {
      “ cell_type ”： “ markdown ”，
      “元數據”：{
        “ id ”： “ kSZQ1WkIL9ih ”
      }，
      “來源”：[
        “每個numpy數組都是相同類型的元素的網格。Numpy提供了大量可用於構造數組的數值數據類型。Numpy會在創建數組時嘗試猜測數據類型，但是構造數組的函數通常還包括一個可選參數，用於顯式指定數據類型。這是一個示例：“
      ]
    }，
    {
      “ cell_type ”： “代碼”，
      “元數據”：{
        “ colab ”：{
          “ base_uri ”： “ https：// localhost：8080 / ”
        }，
        “ id ”： “ 4za4O0m5L9ih ”，
        “ outputId ”： “ 3569d82d-3951-4e09-bf01-b18fd3001ea8 ”
      }，
      “來源”：[
        “ x = np.array（[1，2]）＃讓numpy選擇數據類型\ n ”，
        “ y = np.array（[1.0，2.0]）＃讓numpy選擇數據類型\ n ”，
        “ z = np.array（[1，2]，dtype = np.int64）＃強制使用特定的數據類型\ n ”，
        “ \ n ”，
        “ print（x.dtype，y.dtype，z.dtype）”
      ]，
      “ execution_count ”： null，
      “輸出”：[
        {
          “ output_type ”： “流”，
          “文字”：[
            “ int64 float64 int64 \ n ”
          ]，
          “ name ”： “ stdout ”
        }
      ]
    }，
    {
      “ cell_type ”： “ markdown ”，
      “元數據”：{
        “ id ”： “ RLVIsZQpL9ik ”
      }，
      “來源”：[
        “您可以在[文檔]（http://docs.scipy.org/doc/numpy/reference/arrays.dtypes.html）中閱讀有關numpy數據類型的所有信息。”
      ]
    }，
    {
      “ cell_type ”： “ markdown ”，
      “元數據”：{
        “ id ”： “ TuB-fdhIL9ik ”
      }，
      “來源”：[
        “ ### Array數學”
      ]
    }，
    {
      “ cell_type ”： “ markdown ”，
      “元數據”：{
        “ id ”： “ 18e8V8elL9ik ”
      }，
      “來源”：[
        “基本的數學函數在數組上按元素進行運算，並且既可以用作運算符重載，也可以作為numpy模塊中的函數使用：”
      ]
    }，
    {
      “ cell_type ”： “代碼”，
      “元數據”：{
        “ colab ”：{
          “ base_uri ”： “ https：// localhost：8080 / ”
        }，
        “ id ”： “ gHKvBrSKL9il ”，
        “ outputId ”： “ 1ff32e69-0cb0-41d8-891e-625cc38061bb ”
      }，
      “來源”：[
        “ x = np.array（[[1,2 ,, [3,4]]，dtype = np.float64）\ n ”，
        “ y = np.array（[[5,6]，[7,8]]，dtype = np.float64）\ n ”，
        “ \ n ”，
        “＃按元素求和；兩者都產生數組\ n ”，
        “打印（x + y）\ n ”，
        “打印（np.add（x，y））”
      ]，
      “ execution_count ”： null，
      “輸出”：[
        {
          “ output_type ”： “流”，
          “文字”：[
            “ [[6. 8.] \ n ”，
            “ [10. 12.]] \ n ”，
            “ [[6. 8.] \ n ”，
            “ [10. 12.]] \ n ”
          ]，
          “ name ”： “ stdout ”
        }
      ]
    }，
    {
      “ cell_type ”： “代碼”，
      “元數據”：{
        “ colab ”：{
          “ base_uri ”： “ https：// localhost：8080 / ”
        }，
        “ id ”： “ 1fZtIAMxL9in ”，
        “ outputId ”： “ 7b375235-f400-42d7-fbb7-f3d509a96067 ”
      }，
      “來源”：[
        “＃元素差異；兩者都產生數組\ n ”，
        “ print（x-y）\ n ”，
        “打印（np.subtract（x，y））”
      ]，
      “ execution_count ”： null，
      “輸出”：[
        {
          “ output_type ”： “流”，
          “文字”：[
            “ [[-4。-4。] \ n ”，
            “ [-4。-4。]] \ n ”，
            “ [[-4。-4。] \ n ”，
            “ [-4。-4。]] \ n ”
          ]，
          “ name ”： “ stdout ”
        }
      ]
    }，
    {
      “ cell_type ”： “代碼”，
      “元數據”：{
        “ colab ”：{
          “ base_uri ”： “ https：// localhost：8080 / ”
        }，
        “ id ”： “ nil4AScML9io ”，
        “ outputId ”： “ 031ec981-138b-4d4b-9992-697011162f81 ”
      }，
      “來源”：[
        “＃Elementwise乘積；都產生數組\ n ”，
        “ print（x * y）\ n ”，
        “打印（np.multiply（x，y））”
      ]，
      “ execution_count ”： null，
      “輸出”：[
        {
          “ output_type ”： “流”，
          “文字”：[
            “ [[5. 12.] \ n ”，
            “ [21. 32.]] \ n ”，
            “ [[5. 12.] \ n ”，
            “ [21. 32.]] \ n ”
          ]，
          “ name ”： “ stdout ”
        }
      ]
    }，
    {
      “ cell_type ”： “代碼”，
      “元數據”：{
        “ colab ”：{
          “ base_uri ”： “ https：// localhost：8080 / ”
        }，
        “ id ”： “ 0JoA4lH6L9ip ”，
        “ outputId ”： “ 69ce02e5-dd5d-47b5-8d8e-143c1a43ae94 ”
      }，
      “來源”：[
        “＃元素除法；都產生數組\ n ”，
        “＃[[0.2 0.33333333] \ n ”，
        “＃[0.42857143 0.5]] \ n ”，
        “打印（x / y）\ n ”，
        “打印（np.divide（x，y））”
      ]，
      “ execution_count ”： null，
      “輸出”：[
        {
          “ output_type ”： “流”，
          “文字”：[
            “ [[0.2 0.33333333] \ n ”，
            “ [0.42857143 0.5]] \ n ”，
            “ [[0.2 0.33333333] \ n ”，
            “ [0.42857143 0.5]] \ n ”
          ]，
          “ name ”： “ stdout ”
        }
      ]
    }，
    {
      “ cell_type ”： “代碼”，
      “元數據”：{
        “ colab ”：{
          “ base_uri ”： “ https：// localhost：8080 / ”
        }，
        “ id ”： “ g0iZuA6bL9ir ”，
        “ outputId ”： “ 81a8ec3a-96ff-4cbe-cac1-2a32b25beb8b ”
      }，
      “來源”：[
        “＃Elementwise平方根；產生數組\ n ”，
        “＃[[1. 1.41421356] \ n ”，
        “＃[1.73205081 2.]] \ n ”，
        “打印（np.sqrt（x））”
      ]，
      “ execution_count ”： null，
      “輸出”：[
        {
          “ output_type ”： “流”，
          “文字”：[
            “ [[1. 1.41421356] \ n ”，
            “ [1.73205081 2.。] \ n ”
          ]，
          “ name ”： “ stdout ”
        }
      ]
    }，
    {
      “ cell_type ”： “ markdown ”，
      “元數據”：{
        “ id ”： “ a5d_uujuL9it ”
      }，
      “來源”：[
        “請注意，與MATLAB不同，`*是元素乘法，而不是矩陣乘法。我們使用點函數來計算向量的內積，將向量與矩陣相乘，以及將矩陣相乘。點都可以作為函數使用在numpy的模塊和作為陣列的對象的一個實例方法：“
      ]
    }，
    {
      “ cell_type ”： “代碼”，
      “元數據”：{
        “ colab ”：{
          “ base_uri ”： “ https：// localhost：8080 / ”
        }，
        “ id ”： “ I3FnmoSeL9iu ”，
        “ outputId ”： “ 73436097-0406-4743-dffb-9642b7899472 ”
      }，
      “來源”：[
        “ x = np.array（[[1,2 ,, [3,4]]）\ n ”，
        “ y = np.array（[[5,6]，[7,8]]）\ n ”，
        “ \ n ”，
        “ v = np.array（[9,10]）\ n ”，
        “ w = np.array（[11，12]）\ n ”，
        “ \ n ”，
        “＃向量的內積；都產生219 \ n ”，
        “打印（v.dot（w））\ n ”，
        “打印（np.dot（v，w））”
      ]，
      “ execution_count ”： null，
      “輸出”：[
        {
          “ output_type ”： “流”，
          “文字”：[
            “ 219 \ n ”，
            “ 219 \ n ”
          ]，
          “ name ”： “ stdout ”
        }
      ]
    }，
    {
      “ cell_type ”： “ markdown ”，
      “元數據”：{
        “ id ”： “ vmxPbrHASVeA ”
      }，
      “來源”：[
        “您還可以使用等效於numpy的點運算符的@ @運算符。”
      ]
    }，
    {
      “ cell_type ”： “代碼”，
      “元數據”：{
        “ colab ”：{
          “ base_uri ”： “ https：// localhost：8080 / ”
        }，
        “ id ”： “ vyrWA-mXSdtt ”，
        “ outputId ”： “ 7a0109ac-66ab-4df0-9751-154bc21f2f26 ”
      }，
      “來源”：[
        “打印（v @ w）”
      ]，
      “ execution_count ”： null，
      “輸出”：[
        {
          “ output_type ”： “流”，
          “文字”：[
            “ 219 \ n ”
          ]，
          “ name ”： “ stdout ”
        }
      ]
    }，
    {
      “ cell_type ”： “代碼”，
      “元數據”：{
        “ colab ”：{
          “ base_uri ”： “ https：// localhost：8080 / ”
        }，
        “ id ”： “ zvUODeTxL9iw ”，
        “ outputId ”： “ d3237c96-5b8a-4576-8a1c-b85510d4ad4b ”
      }，
      “來源”：[
        “＃矩陣/向量積；兩者都產生1級數組[29 67] \ n ”，
        “打印（x.dot（v））\ n ”，
        “打印（np.dot（x，v））\ n ”，
        “打印（x @ v）”
      ]，
      “ execution_count ”： null，
      “輸出”：[
        {
          “ output_type ”： “流”，
          “文字”：[
            “ [29 67] \ n ”，
            “ [29 67] \ n ”，
            “ [29 67] \ n ”
          ]，
          “ name ”： “ stdout ”
        }
      ]
    }，
    {
      “ cell_type ”： “代碼”，
      “元數據”：{
        “ colab ”：{
          “ base_uri ”： “ https：// localhost：8080 / ”
        }，
        “ id ”： “ 3V_3NzNEL9iy ”，
        “ outputId ”： “ 8bd75445-d908-4e3a-cf73-0a7ed5288d86 ”
      }，
      “來源”：[
        “＃矩陣/矩陣乘積；都產生2級數組\ n ”，
        “＃[[19 22] \ n ”，
        “＃[43 50]] \ n ”，
        “ print（x.dot（y））\ n ”，
        “ print（np.dot（x，y））\ n ”，
        “打印（x @ y）”
      ]，
      “ execution_count ”： null，
      “輸出”：[
        {
          “ output_type ”： “流”，
          “文字”：[
            “ [[19 22] \ n ”，
            “ [43 50]] \ n ”，
            “ [[19 22] \ n ”，
            “ [43 50]] \ n ”，
            “ [[19 22] \ n ”，
            “ [43 50]] \ n ”
          ]，
          “ name ”： “ stdout ”
        }
      ]
    }，
    {
      “ cell_type ”： “ markdown ”，
      “元數據”：{
        “ id ”： “ FbE-1If_L9i0 ”
      }，
      “來源”：[
        “ Numpy提供了許多有用的函數來對數組執行計算；最有用的函數之一是`sum`：”
      ]
    }，
    {
      “ cell_type ”： “代碼”，
      “元數據”：{
        “ colab ”：{
          “ base_uri ”： “ https：// localhost：8080 / ”
        }，
        “ id ”： “ DZUdZvPrL9i0 ”，
        “ outputId ”： “ 37d544f0-1529-430b-b4f3-0cc0e7c406d8 ”
      }，
      “來源”：[
        “ x = np.array（[[1,2 ,, [3,4]]）\ n ”，
        “ \ n ”，
        “ print（np.sum（x））＃計算所有元素的總和；輸出\” 10 \“ \ n ”，
        “ print（np.sum（x，axis = 0））＃計算每列的總和；打印\” [4 6] \“ \ n ”，
        “ print（np.sum（x，axis = 1））＃計算每行的總和；打印\” [3 7] \“ ”
      ]，
      “ execution_count ”： null，
      “輸出”：[
        {
          “ output_type ”： “流”，
          “文字”：[
            “ 10 \ n ”，
            “ [4 6] \ n ”，
            “ [3 7] \ n ”
          ]，
          “ name ”： “ stdout ”
        }
      ]
    }，
    {
      “ cell_type ”： “ markdown ”，
      “元數據”：{
        “ id ”： “ ahdVW4iUL9i3 ”
      }，
      “來源”：[
        “您可以在[文檔]（http://docs.scipy.org/doc/numpy/reference/routines.math.html）中找到numpy提供的數學函數的完整列表。\ n ”，
        “ \ n ”，
        “除了使用數組計算數學函數外，我們經常需要重整形或以其他方式處理數組中的數據。此類操作的最簡單示例是轉置矩陣；要轉置矩陣，只需使用數組對象的T屬性：”
      ]
    }，
    {
      “ cell_type ”： “代碼”，
      “元數據”：{
        “ colab ”：{
          “ base_uri ”： “ https：// localhost：8080 / ”
        }，
        “ id ”： “ 63Yl1f3oL9i3 ”，
        “ outputId ”： “ 25e26942-a8ae-4396-cd43-26d09493f252 ”
      }，
      “來源”：[
        “打印（x）\ n ”，
        “ print（\”轉置\\ n \“，xT）”
      ]，
      “ execution_count ”： null，
      “輸出”：[
        {
          “ output_type ”： “流”，
          “文字”：[
            “ [[1 2] \ n ”，
            “ [3 4]] \ n ”，
            “轉置\ n ”，
            “ [[1 3] \ n ”，
            “ [2 4]] \ n ”
          ]，
          “ name ”： “ stdout ”
        }
      ]
    }，
    {
      “ cell_type ”： “代碼”，
      “元數據”：{
        “ colab ”：{
          “ base_uri ”： “ https：// localhost：8080 / ”
        }，
        “ id ”： “ mkk03eNIL9i4 ”，
        “ outputId ”： “ 7f915afd-5aea-4061-9971-df4ac790d934 ”
      }，
      “來源”：[
        “ v = np.array（[[1,2,3]]）\ n ”，
        “打印（v）\ n ”，
        “ print（\”轉置\\ n \“，vT）”
      ]，
      “ execution_count ”： null，
      “輸出”：[
        {
          “ output_type ”： “流”，
          “文字”：[
            “ [[1 2 3]] \ n ”，
            “轉置\ n ”，
            “ [[1] \ n ”，
            “ [2] \ n ”，
            “ [3]] \ n ”
          ]，
          “ name ”： “ stdout ”
        }
      ]
    }，
    {
      “ cell_type ”： “ markdown ”，
      “元數據”：{
        “ id ”： “ REfLrUTcL9i7 ”
      }，
      “來源”：[
        “ ###廣播”
      ]
    }，
    {
      “ cell_type ”： “ markdown ”，
      “元數據”：{
        “ id ”： “ EygGAMWqL9i7 ”
      }，
      “來源”：[
        “廣播是一種強大的機制，它允許numpy在執行算術運算時使用不同形狀的數組。通常我們有一個較小的數組和一個較大的數組，我們想多次使用較小的數組對較大的數組執行某些操作。\ n “，
        “ \ n ”，
        “舉例來說，假設我們要常向量添加到矩陣的每一行，我們可以做這樣。”
      ]
    }，
    {
      “ cell_type ”： “代碼”，
      “元數據”：{
        “ colab ”：{
          “ base_uri ”： “ https：// localhost：8080 / ”
        }，
        “ id ”： “ WEEvkV1ZL9i7 ”，
        “ outputId ”： “ d09c9ebc-6965-40ec-8b64-38e6a2250c6e ”
      }，
      “來源”：[
        “＃我們將向量v添加到矩陣x的每一行\ n ”中，
        “＃將結果存儲在矩陣y \ n ”中，
        “ x = np.array（[[1,2,3]，[4,5,6]，[7,8,9]，[10，11，12]]）\ n ”，
        “ v = np.array（[1，0，1]）\ n ”，
        “ Y = np.empty_like（x）的＃具有相同形狀為x創建一個空的矩陣\ n ”，
        “ \ n ”，
        “＃通過顯式循環\ n ”將向量v添加到矩陣x的每一行中，
        “對於範圍（4）中的i：\ n ”，
        “     y [i，：] = x [i，：] + v \ n ”，
        “ \ n ”，
        “打印（y）”
      ]，
      “ execution_count ”： null，
      “輸出”：[
        {
          “ output_type ”： “流”，
          “文字”：[
            “ [[2 2 4] \ n ”，
            “ [5 5 7] \ n ”，
            “ [8 8 10] \ n ”，
            “ [11 11 13]] \ n ”
          ]，
          “ name ”： “ stdout ”
        }
      ]
    }，
    {
      “ cell_type ”： “ markdown ”，
      “元數據”：{
        “ id ”： “ 2OlXXupEL9i- ”
      }，
      “來源”：[
        “這是可行的；但是，當矩陣`x'非常大時，在Python中計算顯式循環可能會很慢。請注意，將向量v添加到矩陣`x'的每一行相當於通過以下方式形成矩陣`vv`：堆疊v`的`多個副本垂直，然後進行x`和`vv`的`的elementwise總和我們可以實現這個方法是這樣的：“
      ]
    }，
    {
      “ cell_type ”： “代碼”，
      “元數據”：{
        “ colab ”：{
          “ base_uri ”： “ https：// localhost：8080 / ”
        }，
        “ id ”： “ vS7UwAQQL9i- ”，
        “ outputId ”： “ 6165dc31-527e-4c30-e773-952801d2f957 ”
      }，
      “來源”：[
        “ vv = np.tile（v，（4，1））＃將v的4個副本彼此堆疊\ n ”，
        “ print（vv）＃打印\” [[1 0 1] \ n “，
        “                          ＃[1 0 1] \ n ”，
        “                          ＃[1 0 1] \ n ”，
        “                          ＃[1 0 1]] \” “
      ]，
      “ execution_count ”： null，
      “輸出”：[
        {
          “ output_type ”： “流”，
          “文字”：[
            “ [[1 0 1] \ n ”，
            “ [1 0 1] \ n ”，
            “ [1 0 1] \ n ”，
            “ [1 0 1]] \ n ”
          ]，
          “ name ”： “ stdout ”
        }
      ]
    }，
    {
      “ cell_type ”： “代碼”，
      “元數據”：{
        “ colab ”：{
          “ base_uri ”： “ https：// localhost：8080 / ”
        }，
        “ id ”： “ N0hJphSIL9jA ”，
        “ outputId ”： “ d1ceabe7-753a-4ff9-8a98-4dc439473795 ”
      }，
      “來源”：[
        “ y = x + vv＃逐個添加x和vv \ n ”，
        “打印（y）”
      ]，
      “ execution_count ”： null，
      “輸出”：[
        {
          “ output_type ”： “流”，
          “文字”：[
            “ [[2 2 4] \ n ”，
            “ [5 5 7] \ n ”，
            “ [8 8 10] \ n ”，
            “ [11 11 13]] \ n ”
          ]，
          “ name ”： “ stdout ”
        }
      ]
    }，
    {
      “ cell_type ”： “ markdown ”，
      “元數據”：{
        “ id ”： “ zHos6RJnL9jB ”
      }，
      “來源”：[
        “ Numpy廣播使我們無需實際創建v的多個副本即可執行此計算。請考慮以下版本，使用廣播：”
      ]
    }，
    {
      “ cell_type ”： “代碼”，
      “元數據”：{
        “ colab ”：{
          “ base_uri ”： “ https：// localhost：8080 / ”
        }，
        “ id ”： “ vnYFb-gYL9jC ”，
        “ outputId ”： “ 38894063-0c7e-4789-d9cd-62e744e38c6e ”
      }，
      “來源”：[
        “將numpy導入為np \ n ”，
        “ \ n ”，
        “＃我們將向量v添加到矩陣x的每一行\ n ”中，
        “＃將結果存儲在矩陣y \ n ”中，
        “ x = np.array（[[1,2,3]，[4,5,6]，[7,8,9]，[10，11，12]]）\ n ”，
        “ v = np.array（[1，0，1]）\ n ”，
        “ Y = X + V＃添加v至x的每行使用廣播\ n ”，
        “打印（y）”
      ]，
      “ execution_count ”： null，
      “輸出”：[
        {
          “ output_type ”： “流”，
          “文字”：[
            “ [[2 2 4] \ n ”，
            “ [5 5 7] \ n ”，
            “ [8 8 10] \ n ”，
            “ [11 11 13]] \ n ”
          ]，
          “ name ”： “ stdout ”
        }
      ]
    }，
    {
      “ cell_type ”： “ markdown ”，
      “元數據”：{
        “ id ”： “ 08YyIURKL9jH ”
      }，
      “來源”：[
        “由於廣播，即使x的形狀為（（4，3））且`v`的形狀為（（3，）`，這條線y = x + v仍然有效；這條線的工作方式就像v實際上具有形狀`（4，3）`，其中每一行都是`v`的副本，並且總和是逐元素執行的。\ n “，
        “ \ n ”，
        “一起廣播兩個數組遵循以下規則：\ n ”，
        “ \ n ”，
        “ 1.如果數組的秩不同，則將低秩數組的形狀加1s，直到兩個形狀的長度相同。\ n ”，
        “ 2.如果兩個數組的尺寸相同，或者其中一個數組的尺寸為1，則稱這兩個數組在尺寸上是兼容的。\ n ”，
        “ 3.如果陣列在所有維度上都兼容，則可以一起廣播。\ n ”，
        “ 4.廣播後，每個數組的行為就好像它們的形狀等於兩個輸入數組的形狀的元素最大值。\ n “，
        “ 5.在一個數組的大小為1且另一個數組的大小大於1的任何維度中，第一個數組的行為就像是沿著該維度\ n “複製一樣，
        “ \ n ”，
        “如果此說明沒有意義，請嘗試從[文檔]（http://docs.scipy.org/doc/numpy/user/basics.broadcasting.html）或此[說明]（http：/ /wiki.scipy.org/EricsBroadcastingDoc）。\ n “，
        “ \ n ”，
        “支持廣播的功能稱為通用功能。您可以在[文檔]（http://docs.scipy.org/doc/numpy/reference/ufuncs.html#available-ufuncs）中找到所有通用功能的列表。 。\ n “，
        “ \ n ”，
        “這是廣播的一些應用：”
      ]
    }，
    {
      “ cell_type ”： “代碼”，
      “元數據”：{
        “ colab ”：{
          “ base_uri ”： “ https：// localhost：8080 / ”
        }，
        “ id ”： “ EmQnwoM9L9jH ”，
        “ outputId ”： “ d5ee1b04-3a14-48c6-d581-3abb3c0d585c ”
      }，
      “來源”：[
        “載體的＃計算外積\ n ”，
        “ v = np.array（[1,2,3]）＃v的形狀為（3，）\ n ”，
        “ w = np.array（[4,5]）＃w的形狀為（2，）\ n ”，
        “＃要計算外部乘積，我們首先將v整形為列\ n “，
        “＃個形狀為（3，1）的向量；然後我們可以針對w廣播它，得出\ n ”，
        “＃一個形狀為（3，2）的輸出，它是v和w的外積：\ n ”，
        “ \ n ”，
        “打印（np.reshape（v，（3，1））* w）”
      ]，
      “ execution_count ”： null，
      “輸出”：[
        {
          “ output_type ”： “流”，
          “文字”：[
            “ [[4 5] \ n ”，
            “ [8 10] \ n ”，
            “ [12 15]] \ n ”
          ]，
          “ name ”： “ stdout ”
        }
      ]
    }，
    {
      “ cell_type ”： “代碼”，
      “元數據”：{
        “ colab ”：{
          “ base_uri ”： “ https：// localhost：8080 / ”
        }，
        “ id ”： “ PgotmpcnL9jK ”，
        “ outputId ”： “ d6e03557-aa28-445d-bd3c-72d0069482f0 ”
      }，
      “來源”：[
        “＃向矩陣的每一行添加一個向量\ n ”，
        “ x = np.array（[[1,2,3]，[4,5,6]]）\ n ”，
        “＃x的形狀為（2，3），而v的形狀為（3，），因此它們廣播到（2，3），\ n ”，
        “＃給出以下矩陣：\ n ”，
        “ \ n ”，
        “打印（x + v）”
      ]，
      “ execution_count ”： null，
      “輸出”：[
        {
          “ output_type ”： “流”，
          “文字”：[
            “ [[2 4 6] \ n ”，
            “ [5 7 9]] \ n ”
          ]，
          “ name ”： “ stdout ”
        }
      ]
    }，
    {
      “ cell_type ”： “代碼”，
      “元數據”：{
        “ colab ”：{
          “ base_uri ”： “ https：// localhost：8080 / ”
        }，
        “ id ”： “ T5hKS1QaL9jK ”，
        “ outputId ”： “ 871a97b9-11f5-46ad-b237-ccf5db1a8ceb ”
      }，
      “來源”：[
        “＃向矩陣的每一列添加一個向量\ n ”，
        “＃x的形狀為（2，3），w的形狀為（2，）。\ n ”，
        “＃如果我們對x進行轉置，則它的形狀（3，2）可以被廣播\ n ”，
        “＃反對w以產生形狀（3，2）的結果；將結果轉置\ n ”，
        “＃產生形狀（2，3）的最終結果，它是具有\ n “的矩陣x，
        “＃添加到每一列的向量w。給出以下矩陣：\ n ”，
        “ \ n ”，
        “打印（（xT + w）.T）”
      ]，
      “ execution_count ”： null，
      “輸出”：[
        {
          “ output_type ”： “流”，
          “文字”：[
            “ [[5 6 7] \ n ”，
            “ [9 10 11]] \ n “
          ]，
          “ name ”： “ stdout ”
        }
      ]
    }，
    {
      “ cell_type ”： “代碼”，
      “元數據”：{
        “ colab ”：{
          “ base_uri ”： “ https：// localhost：8080 / ”
        }，
        “ id ”： “ JDUrZUl6L9jN ”，
        “ outputId ”： “ edd65ec8-e62e-42e1-cee0-e12a0791ac19 ”
      }，
      “來源”：[
        “＃另一個解決方案是重塑w為形狀（2,1）的行向量; \ n ”，
        “＃然後我們可以直接針對x廣播它，以產生相同的\ n ”，
        “＃輸出。\ n ”，
        “打印（x + np.reshape（w，（2，1）））”
      ]，
      “ execution_count ”： null，
      “輸出”：[
        {
          “ output_type ”： “流”，
          “文字”：[
            “ [[5 6 7] \ n ”，
            “ [9 10 11]] \ n “
          ]，
          “ name ”： “ stdout ”
        }
      ]
    }，
    {
      “ cell_type ”： “代碼”，
      “元數據”：{
        “ colab ”：{
          “ base_uri ”： “ https：// localhost：8080 / ”
        }，
        “ id ”： “ VzrEo4KGL9jP ”，
        “ outputId ”： “ f4d30b2d-eb12-4666-c732-0a22aeb7ad1f ”
      }，
      “來源”：[
        “＃將矩陣乘以一個常數：\ n ”，
        “＃x的形狀為（2，3）。Numpy將標量視為形狀的數組（）; \ n ”，
        “＃這些可以一起廣播以成形（2，3），產生\ n ”，
        “＃以下數組：\ n ”，
        “打印（x * 2）”
      ]，
      “ execution_count ”： null，
      “輸出”：[
        {
          “ output_type ”： “流”，
          “文字”：[
            “ [[2 4 6] \ n ”，
            “ [8 10 12]] \ n ”
          ]，
          “ name ”： “ stdout ”
        }
      ]
    }，
    {
      “ cell_type ”： “ markdown ”，
      “元數據”：{
        “ id ”： “ 89e2FXxFL9jQ ”
      }，
      “來源”：[
        “廣播通常使您的代碼更簡潔，更快捷，因此您應努力在可能的地方使用它。”
      ]
    }，
    {
      “ cell_type ”： “ markdown ”，
      “元數據”：{
        “ id ”： “ iF3ZtwVNL9jQ ”
      }，
      “來源”：[
        “這個簡短的概述已經觸及了您需要了解的有關numpy的許多重要知識，但是還遠遠不夠完整。請查看[numpy參考]（http://docs.scipy.org/doc/numpy/reference/ ），以了解有關numpy的更多信息。”
      ]
    }
  ]
} 
